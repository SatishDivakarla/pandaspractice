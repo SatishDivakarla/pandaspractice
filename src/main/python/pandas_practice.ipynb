{
 "cells": [
  {
   "cell_type": "code",
   "execution_count": 1,
   "metadata": {
    "collapsed": true
   },
   "outputs": [],
   "source": [
    "import pandas as pd\n",
    "import numpy as np\n",
    "\n",
    "\n",
    "\n"
   ]
  },
  {
   "cell_type": "markdown",
   "metadata": {},
   "source": [
    "## Data Preparation"
   ]
  },
  {
   "cell_type": "code",
   "execution_count": 25,
   "metadata": {
    "collapsed": true
   },
   "outputs": [],
   "source": [
    "#Preparing Data\n",
    "\n",
    "dates = pd.date_range('20130101', periods=6)\n",
    "df = pd.DataFrame(np.random.randn(6,4), index=dates, columns=list('ABCD'))\n",
    "\n",
    "dataset_for_practicing_pandas =  pd.read_csv(\"test.csv\")\n"
   ]
  },
  {
   "cell_type": "markdown",
   "metadata": {},
   "source": [
    "## Selecting Columns\n"
   ]
  },
  {
   "cell_type": "code",
   "execution_count": 3,
   "metadata": {},
   "outputs": [
    {
     "name": "stdout",
     "output_type": "stream",
     "text": [
      "\n",
      " Select column as a list\n",
      "2013-01-01    2.100384\n",
      "2013-01-02    0.047651\n",
      "2013-01-03    0.920200\n",
      "2013-01-04   -0.277244\n",
      "2013-01-05    0.181545\n",
      "2013-01-06    0.661112\n",
      "Freq: D, Name: A, dtype: float64\n",
      "\n",
      " Select column as a dataframe\n",
      "                   A\n",
      "2013-01-01  2.100384\n",
      "2013-01-02  0.047651\n",
      "2013-01-03  0.920200\n",
      "2013-01-04 -0.277244\n",
      "2013-01-05  0.181545\n",
      "2013-01-06  0.661112\n",
      "\n",
      " Select multiple columns 1\n",
      "                   A         B\n",
      "2013-01-01  2.100384  2.892242\n",
      "2013-01-02  0.047651 -0.005825\n",
      "2013-01-03  0.920200 -0.839150\n",
      "2013-01-04 -0.277244  0.009998\n",
      "2013-01-05  0.181545 -2.202761\n",
      "2013-01-06  0.661112  0.075735\n",
      "\n",
      " Select multiple columns 2\n",
      "                   A         B         C\n",
      "2013-01-01  2.100384  2.892242 -0.269546\n",
      "2013-01-02  0.047651 -0.005825  0.078604\n",
      "2013-01-03  0.920200 -0.839150 -0.059657\n",
      "2013-01-04 -0.277244  0.009998  0.579357\n",
      "2013-01-05  0.181545 -2.202761 -0.335074\n",
      "2013-01-06  0.661112  0.075735  1.656822\n",
      "\n",
      " Select all columns except B\n",
      "                   A         C         D\n",
      "2013-01-01  2.100384 -0.269546  1.258193\n",
      "2013-01-02  0.047651  0.078604  0.090233\n",
      "2013-01-03  0.920200 -0.059657 -0.635759\n",
      "2013-01-04 -0.277244  0.579357  0.504475\n",
      "2013-01-05  0.181545 -0.335074  1.738137\n",
      "2013-01-06  0.661112  1.656822 -0.273589\n"
     ]
    }
   ],
   "source": [
    "print(\"\\n Select column as a list\")\n",
    "print(df['A'])\n",
    "\n",
    "print(\"\\n Select column as a dataframe\")\n",
    "print(df[['A']])\n",
    "\n",
    "print(\"\\n Select multiple columns 1\")\n",
    "print(df[['A','B']])\n",
    "\n",
    "print(\"\\n Select multiple columns 2\")\n",
    "columns= ['A', 'B','C']\n",
    "print(df[columns])\n",
    "\n",
    "print(\"\\n Select all columns except B\")\n",
    "print(df.drop('B', 1))\n",
    "\n"
   ]
  },
  {
   "cell_type": "markdown",
   "metadata": {},
   "source": [
    "## Filter rows\n"
   ]
  },
  {
   "cell_type": "code",
   "execution_count": 4,
   "metadata": {},
   "outputs": [
    {
     "name": "stdout",
     "output_type": "stream",
     "text": [
      "\n",
      " Filter rows having A value less than 0\n",
      "                   A         B         C         D\n",
      "2013-01-04 -0.277244  0.009998  0.579357  0.504475\n",
      "\n",
      " Filter rows having A value less than 0 and greater than -1\n",
      "                   A         B         C         D\n",
      "2013-01-04 -0.277244  0.009998  0.579357  0.504475\n"
     ]
    }
   ],
   "source": [
    "print(\"\\n Filter rows having A value less than 0\")\n",
    "print(df[df['A']<0])\n",
    "\n",
    "print(\"\\n Filter rows having A value less than 0 and greater than -1\")\n",
    "print(df[(df['A']<0) & (df['A']>-1)])"
   ]
  },
  {
   "cell_type": "markdown",
   "metadata": {},
   "source": [
    "## Select Rows\n",
    "\n",
    "* Use iloc for selecting rows by row numbers\n",
    "* Use loc for selecting data by label or by a conditional statment (.loc)\n"
   ]
  },
  {
   "cell_type": "markdown",
   "metadata": {},
   "source": [
    "### Selecting rows by row numbers"
   ]
  },
  {
   "cell_type": "code",
   "execution_count": 5,
   "metadata": {},
   "outputs": [
    {
     "data": {
      "text/html": [
       "<div>\n",
       "<style scoped>\n",
       "    .dataframe tbody tr th:only-of-type {\n",
       "        vertical-align: middle;\n",
       "    }\n",
       "\n",
       "    .dataframe tbody tr th {\n",
       "        vertical-align: top;\n",
       "    }\n",
       "\n",
       "    .dataframe thead th {\n",
       "        text-align: right;\n",
       "    }\n",
       "</style>\n",
       "<table border=\"1\" class=\"dataframe\">\n",
       "  <thead>\n",
       "    <tr style=\"text-align: right;\">\n",
       "      <th></th>\n",
       "      <th>A</th>\n",
       "      <th>B</th>\n",
       "      <th>C</th>\n",
       "      <th>D</th>\n",
       "    </tr>\n",
       "  </thead>\n",
       "  <tbody>\n",
       "    <tr>\n",
       "      <th>2013-01-01</th>\n",
       "      <td>2.100384</td>\n",
       "      <td>2.892242</td>\n",
       "      <td>-0.269546</td>\n",
       "      <td>1.258193</td>\n",
       "    </tr>\n",
       "    <tr>\n",
       "      <th>2013-01-02</th>\n",
       "      <td>0.047651</td>\n",
       "      <td>-0.005825</td>\n",
       "      <td>0.078604</td>\n",
       "      <td>0.090233</td>\n",
       "    </tr>\n",
       "    <tr>\n",
       "      <th>2013-01-03</th>\n",
       "      <td>0.920200</td>\n",
       "      <td>-0.839150</td>\n",
       "      <td>-0.059657</td>\n",
       "      <td>-0.635759</td>\n",
       "    </tr>\n",
       "    <tr>\n",
       "      <th>2013-01-04</th>\n",
       "      <td>-0.277244</td>\n",
       "      <td>0.009998</td>\n",
       "      <td>0.579357</td>\n",
       "      <td>0.504475</td>\n",
       "    </tr>\n",
       "    <tr>\n",
       "      <th>2013-01-05</th>\n",
       "      <td>0.181545</td>\n",
       "      <td>-2.202761</td>\n",
       "      <td>-0.335074</td>\n",
       "      <td>1.738137</td>\n",
       "    </tr>\n",
       "    <tr>\n",
       "      <th>2013-01-06</th>\n",
       "      <td>0.661112</td>\n",
       "      <td>0.075735</td>\n",
       "      <td>1.656822</td>\n",
       "      <td>-0.273589</td>\n",
       "    </tr>\n",
       "  </tbody>\n",
       "</table>\n",
       "</div>"
      ],
      "text/plain": [
       "                   A         B         C         D\n",
       "2013-01-01  2.100384  2.892242 -0.269546  1.258193\n",
       "2013-01-02  0.047651 -0.005825  0.078604  0.090233\n",
       "2013-01-03  0.920200 -0.839150 -0.059657 -0.635759\n",
       "2013-01-04 -0.277244  0.009998  0.579357  0.504475\n",
       "2013-01-05  0.181545 -2.202761 -0.335074  1.738137\n",
       "2013-01-06  0.661112  0.075735  1.656822 -0.273589"
      ]
     },
     "execution_count": 5,
     "metadata": {},
     "output_type": "execute_result"
    }
   ],
   "source": [
    "df"
   ]
  },
  {
   "cell_type": "code",
   "execution_count": 6,
   "metadata": {},
   "outputs": [
    {
     "name": "stdout",
     "output_type": "stream",
     "text": [
      "\n",
      " 3rd row as a series\n",
      "A    0.920200\n",
      "B   -0.839150\n",
      "C   -0.059657\n",
      "D   -0.635759\n",
      "Name: 2013-01-03 00:00:00, dtype: float64\n",
      "\n",
      " Convert it to list if needed as follows\n",
      "<class 'list'>\n",
      "\n",
      " 3rd column\n",
      "2013-01-01   -0.269546\n",
      "2013-01-02    0.078604\n",
      "2013-01-03   -0.059657\n",
      "2013-01-04    0.579357\n",
      "2013-01-05   -0.335074\n",
      "2013-01-06    1.656822\n",
      "Freq: D, Name: C, dtype: float64\n",
      "\n",
      " 3rd row and 3rd column\n",
      "-0.0596566766755\n",
      "\n",
      " Last Row\n",
      "A    0.661112\n",
      "B    0.075735\n",
      "C    1.656822\n",
      "D   -0.273589\n",
      "Name: 2013-01-06 00:00:00, dtype: float64\n",
      "\n",
      " Last column\n",
      "2013-01-01    1.258193\n",
      "2013-01-02    0.090233\n",
      "2013-01-03   -0.635759\n",
      "2013-01-04    0.504475\n",
      "2013-01-05    1.738137\n",
      "2013-01-06   -0.273589\n",
      "Freq: D, Name: D, dtype: float64\n",
      "\n",
      " First and Third Row, Second and Fourth column\n",
      "                   B         D\n",
      "2013-01-01  2.892242  1.258193\n",
      "2013-01-03 -0.839150 -0.635759\n"
     ]
    }
   ],
   "source": [
    "print(\"\\n 3rd row as a series\")\n",
    "print(df.iloc[2])\n",
    "\n",
    "print(\"\\n Convert it to list if needed as follows\")\n",
    "print(type(df.iloc[2].tolist()))\n",
    "\n",
    "print(\"\\n 3rd column\")\n",
    "print(df.iloc[:,2])\n",
    "\n",
    "print(\"\\n 3rd row and 3rd column\")\n",
    "print(df.iloc[2,2])\n",
    "\n",
    "print(\"\\n Last Row\")\n",
    "print(df.iloc[-1])\n",
    "\n",
    "print(\"\\n Last column\")\n",
    "print(df.iloc[:,-1])\n",
    "\n",
    "print(\"\\n First and Third Row, Second and Fourth column\")\n",
    "print(df.iloc[[0,2],[1,3]])"
   ]
  },
  {
   "cell_type": "markdown",
   "metadata": {},
   "source": [
    "### Selecting rows by label name or by conditions\n"
   ]
  },
  {
   "cell_type": "code",
   "execution_count": 7,
   "metadata": {},
   "outputs": [
    {
     "name": "stdout",
     "output_type": "stream",
     "text": [
      "\n",
      " Select rows by label name 2013-01-01 \n",
      "A    2.100384\n",
      "B    2.892242\n",
      "C   -0.269546\n",
      "D    1.258193\n",
      "Name: 2013-01-01 00:00:00, dtype: float64\n",
      "\n",
      " Select rows by condition\n",
      "                   A         B         C         D\n",
      "2013-01-04 -0.277244  0.009998  0.579357  0.504475\n",
      "\n",
      " Select A and C column by condition\n",
      "                   A         C\n",
      "2013-01-04 -0.277244  0.579357\n"
     ]
    }
   ],
   "source": [
    "print(\"\\n Select rows by label name 2013-01-01 \")\n",
    "print(df.loc['2013-01-01'])\n",
    "\n",
    "print(\"\\n Select rows by condition\")\n",
    "print(df.loc[df['A']<0])\n",
    "\n",
    "print(\"\\n Select A and C column by condition\")\n",
    "print(df.loc[df['A']<0, ['A', 'C']])\n",
    "\n"
   ]
  },
  {
   "cell_type": "markdown",
   "metadata": {},
   "source": [
    "## Handling Missing Data"
   ]
  },
  {
   "cell_type": "code",
   "execution_count": 8,
   "metadata": {},
   "outputs": [
    {
     "name": "stdout",
     "output_type": "stream",
     "text": [
      "\n",
      " Count number of NAs in dataframe\n",
      "\n",
      " Count number of NAs in column A\n",
      "\n",
      " Drop any rows which have NAs\n",
      "\n",
      " Fill all NAs with a value\n",
      "\n",
      " Fill all NAs with a mean of column\n"
     ]
    },
    {
     "data": {
      "text/html": [
       "<div>\n",
       "<style scoped>\n",
       "    .dataframe tbody tr th:only-of-type {\n",
       "        vertical-align: middle;\n",
       "    }\n",
       "\n",
       "    .dataframe tbody tr th {\n",
       "        vertical-align: top;\n",
       "    }\n",
       "\n",
       "    .dataframe thead th {\n",
       "        text-align: right;\n",
       "    }\n",
       "</style>\n",
       "<table border=\"1\" class=\"dataframe\">\n",
       "  <thead>\n",
       "    <tr style=\"text-align: right;\">\n",
       "      <th></th>\n",
       "      <th>A</th>\n",
       "      <th>B</th>\n",
       "      <th>C</th>\n",
       "      <th>D</th>\n",
       "    </tr>\n",
       "  </thead>\n",
       "  <tbody>\n",
       "    <tr>\n",
       "      <th>2013-01-01</th>\n",
       "      <td>2.100384</td>\n",
       "      <td>2.892242</td>\n",
       "      <td>-0.269546</td>\n",
       "      <td>1.258193</td>\n",
       "    </tr>\n",
       "    <tr>\n",
       "      <th>2013-01-02</th>\n",
       "      <td>0.047651</td>\n",
       "      <td>-0.005825</td>\n",
       "      <td>0.078604</td>\n",
       "      <td>0.090233</td>\n",
       "    </tr>\n",
       "    <tr>\n",
       "      <th>2013-01-03</th>\n",
       "      <td>0.920200</td>\n",
       "      <td>-0.839150</td>\n",
       "      <td>-0.059657</td>\n",
       "      <td>-0.635759</td>\n",
       "    </tr>\n",
       "    <tr>\n",
       "      <th>2013-01-04</th>\n",
       "      <td>-0.277244</td>\n",
       "      <td>0.009998</td>\n",
       "      <td>0.579357</td>\n",
       "      <td>0.504475</td>\n",
       "    </tr>\n",
       "    <tr>\n",
       "      <th>2013-01-05</th>\n",
       "      <td>0.181545</td>\n",
       "      <td>-2.202761</td>\n",
       "      <td>-0.335074</td>\n",
       "      <td>1.738137</td>\n",
       "    </tr>\n",
       "    <tr>\n",
       "      <th>2013-01-06</th>\n",
       "      <td>0.661112</td>\n",
       "      <td>0.075735</td>\n",
       "      <td>1.656822</td>\n",
       "      <td>-0.273589</td>\n",
       "    </tr>\n",
       "  </tbody>\n",
       "</table>\n",
       "</div>"
      ],
      "text/plain": [
       "                   A         B         C         D\n",
       "2013-01-01  2.100384  2.892242 -0.269546  1.258193\n",
       "2013-01-02  0.047651 -0.005825  0.078604  0.090233\n",
       "2013-01-03  0.920200 -0.839150 -0.059657 -0.635759\n",
       "2013-01-04 -0.277244  0.009998  0.579357  0.504475\n",
       "2013-01-05  0.181545 -2.202761 -0.335074  1.738137\n",
       "2013-01-06  0.661112  0.075735  1.656822 -0.273589"
      ]
     },
     "execution_count": 8,
     "metadata": {},
     "output_type": "execute_result"
    }
   ],
   "source": [
    "print(\"\\n Count number of NAs in dataframe\")\n",
    "df.isna().sum()\n",
    "\n",
    "print(\"\\n Count number of NAs in column A\")\n",
    "df['A'].isna().sum()\n",
    "\n",
    "print(\"\\n Drop any rows which have NAs\")\n",
    "df.dropna(how='any')\n",
    "\n",
    "print(\"\\n Fill all NAs with a value\")\n",
    "df.fillna(value=5)\n",
    "\n",
    "print(\"\\n Fill all NAs with a mean of column\")\n",
    "df.fillna(df.mean())"
   ]
  },
  {
   "cell_type": "markdown",
   "metadata": {},
   "source": [
    "## Apply function "
   ]
  },
  {
   "cell_type": "code",
   "execution_count": 17,
   "metadata": {},
   "outputs": [
    {
     "name": "stdout",
     "output_type": "stream",
     "text": [
      "Apply function to column in dataframe\n",
      "                   A         B         C         D      newA isMaxA\n",
      "2013-01-01  2.100384  2.892242 -0.269546  1.258193  3.100384      B\n",
      "2013-01-02  0.047651 -0.005825  0.078604  0.090233  1.047651      D\n",
      "2013-01-03  0.920200 -0.839150 -0.059657 -0.635759  1.920200      A\n",
      "2013-01-04 -0.277244  0.009998  0.579357  0.504475  0.722756      C\n",
      "2013-01-05  0.181545 -2.202761 -0.335074  1.738137  1.181545      D\n",
      "2013-01-06  0.661112  0.075735  1.656822 -0.273589  1.661112      C\n",
      "The same thing can be done using lambda expressions\n",
      "                   A         B         C         D      newA isMaxA\n",
      "2013-01-01  2.100384  2.892242 -0.269546  1.258193  3.100384      B\n",
      "2013-01-02  0.047651 -0.005825  0.078604  0.090233  1.047651      D\n",
      "2013-01-03  0.920200 -0.839150 -0.059657 -0.635759  1.920200      A\n",
      "2013-01-04 -0.277244  0.009998  0.579357  0.504475  0.722756      C\n",
      "2013-01-05  0.181545 -2.202761 -0.335074  1.738137  1.181545      D\n",
      "2013-01-06  0.661112  0.075735  1.656822 -0.273589  1.661112      C\n",
      "Add one only when A value is less than 0\n",
      "                   A         B         C         D      newA isMaxA\n",
      "2013-01-01  2.100384  2.892242 -0.269546  1.258193  2.100384      B\n",
      "2013-01-02  0.047651 -0.005825  0.078604  0.090233  0.047651      D\n",
      "2013-01-03  0.920200 -0.839150 -0.059657 -0.635759  0.920200      A\n",
      "2013-01-04 -0.277244  0.009998  0.579357  0.504475  0.722756      C\n",
      "2013-01-05  0.181545 -2.202761 -0.335074  1.738137  0.181545      D\n",
      "2013-01-06  0.661112  0.075735  1.656822 -0.273589  0.661112      C\n",
      "                   A         B         C         D      newA isMaxA\n",
      "2013-01-01  2.100384  2.892242 -0.269546  1.258193  7.884869      B\n",
      "2013-01-02  0.047651 -0.005825  0.078604  0.090233  0.036002      D\n",
      "2013-01-03  0.920200 -0.839150 -0.059657 -0.635759 -0.758101      A\n",
      "2013-01-04 -0.277244  0.009998  0.579357  0.504475 -0.257249      C\n",
      "2013-01-05  0.181545 -2.202761 -0.335074  1.738137 -4.223976      D\n",
      "2013-01-06  0.661112  0.075735  1.656822 -0.273589  0.812582      C\n",
      "                   A         B         C         D      newA isMaxA maxColumn\n",
      "2013-01-01  2.100384  2.892242 -0.269546  1.258193  7.884869      B         B\n",
      "2013-01-02  0.047651 -0.005825  0.078604  0.090233  0.036002      D         D\n",
      "2013-01-03  0.920200 -0.839150 -0.059657 -0.635759 -0.758101      A         A\n",
      "2013-01-04 -0.277244  0.009998  0.579357  0.504475 -0.257249      C         C\n",
      "2013-01-05  0.181545 -2.202761 -0.335074  1.738137 -4.223976      D         D\n",
      "2013-01-06  0.661112  0.075735  1.656822 -0.273589  0.812582      C         C\n",
      "\n",
      " apply works on a row / column basis of a DataFrame, applymap works element-wise on a DataFrame, and map works element-wise on a Series.\n"
     ]
    }
   ],
   "source": [
    "print(\"Apply function to column in dataframe\")\n",
    "\n",
    "def addOneToValue(x):\n",
    "    return x+1\n",
    "\n",
    "def isAMax(x):\n",
    "    if max(x['A'], x['B'], x['C'], x['D']) == x['A']:\n",
    "        return 'A'\n",
    "    elif max(x['A'], x['B'], x['C'], x['D']) == x['B']:\n",
    "        return 'B'\n",
    "    elif max(x['A'], x['B'], x['C'], x['D']) == x['C']:\n",
    "        return 'C'\n",
    "    elif max(x['A'], x['B'], x['C'], x['D']) == x['D']:\n",
    "        return 'D'    \n",
    "\n",
    "df['newA'] = df['A'].apply(addOneToValue)\n",
    "print(df)\n",
    "\n",
    "print(\"The same thing can be done using lambda expressions\")\n",
    "df['newA'] = df['A'].apply(lambda x: x+1)\n",
    "print(df)\n",
    "\n",
    "print(\"Add one only when A value is less than 0\")\n",
    "df['newA'] = df['A'].apply(lambda x:x+1 if x<0 else x)\n",
    "print(df)\n",
    "\n",
    "df['newA'] = df['A'] + 2*df['B']\n",
    "print(df)\n",
    "\n",
    "df['maxColumn'] = df.apply(isAMax, axis=1)\n",
    "print(df)\n",
    "\n"
   ]
  },
  {
   "cell_type": "markdown",
   "metadata": {},
   "source": [
    "* apply works on a row or column basis of a DataFrame, \n",
    "* applymap works element-wise on a DataFrame\n",
    "* map works element-wise on a Series."
   ]
  },
  {
   "cell_type": "markdown",
   "metadata": {},
   "source": [
    "## Arrange"
   ]
  },
  {
   "cell_type": "code",
   "execution_count": 24,
   "metadata": {},
   "outputs": [
    {
     "name": "stdout",
     "output_type": "stream",
     "text": [
      "\n",
      " Sort dataframe by values of A \n",
      "                   A         B         C         D      newA isMaxA maxColumn\n",
      "2013-01-03  0.920200 -0.839150 -0.059657 -0.635759 -0.758101      A         A\n",
      "2013-01-01  2.100384  2.892242 -0.269546  1.258193  7.884869      B         B\n",
      "2013-01-04 -0.277244  0.009998  0.579357  0.504475 -0.257249      C         C\n",
      "2013-01-06  0.661112  0.075735  1.656822 -0.273589  0.812582      C         C\n",
      "2013-01-02  0.047651 -0.005825  0.078604  0.090233  0.036002      D         D\n",
      "2013-01-05  0.181545 -2.202761 -0.335074  1.738137 -4.223976      D         D\n",
      "\n",
      " Sort dataframe by values of maxColumn and A\n",
      "                   A         B         C         D      newA isMaxA maxColumn\n",
      "2013-01-03  0.920200 -0.839150 -0.059657 -0.635759 -0.758101      A         A\n",
      "2013-01-01  2.100384  2.892242 -0.269546  1.258193  7.884869      B         B\n",
      "2013-01-04 -0.277244  0.009998  0.579357  0.504475 -0.257249      C         C\n",
      "2013-01-06  0.661112  0.075735  1.656822 -0.273589  0.812582      C         C\n",
      "2013-01-02  0.047651 -0.005825  0.078604  0.090233  0.036002      D         D\n",
      "2013-01-05  0.181545 -2.202761 -0.335074  1.738137 -4.223976      D         D\n",
      "\n",
      " Sort dataframe by values of A in descending order\n",
      "                   A         B         C         D      newA isMaxA maxColumn\n",
      "2013-01-05  0.181545 -2.202761 -0.335074  1.738137 -4.223976      D         D\n",
      "2013-01-02  0.047651 -0.005825  0.078604  0.090233  0.036002      D         D\n",
      "2013-01-06  0.661112  0.075735  1.656822 -0.273589  0.812582      C         C\n",
      "2013-01-04 -0.277244  0.009998  0.579357  0.504475 -0.257249      C         C\n",
      "2013-01-01  2.100384  2.892242 -0.269546  1.258193  7.884869      B         B\n",
      "2013-01-03  0.920200 -0.839150 -0.059657 -0.635759 -0.758101      A         A\n"
     ]
    }
   ],
   "source": [
    "print(\"\\n Sort dataframe by values of A \")\n",
    "print(df.sort_values(['isMaxA', 'A']))\n",
    "\n",
    "print(\"\\n Sort dataframe by values of maxColumn and A\")\n",
    "print(df.sort_values(['maxColumn', 'A']))\n",
    "\n",
    "print(\"\\n Sort dataframe by values of A in descending order\")\n",
    "print(df.sort_values(['maxColumn', 'A'], ascending=False))"
   ]
  },
  {
   "cell_type": "code",
   "execution_count": 26,
   "metadata": {},
   "outputs": [
    {
     "data": {
      "text/html": [
       "<div>\n",
       "<style scoped>\n",
       "    .dataframe tbody tr th:only-of-type {\n",
       "        vertical-align: middle;\n",
       "    }\n",
       "\n",
       "    .dataframe tbody tr th {\n",
       "        vertical-align: top;\n",
       "    }\n",
       "\n",
       "    .dataframe thead th {\n",
       "        text-align: right;\n",
       "    }\n",
       "</style>\n",
       "<table border=\"1\" class=\"dataframe\">\n",
       "  <thead>\n",
       "    <tr style=\"text-align: right;\">\n",
       "      <th></th>\n",
       "      <th>index</th>\n",
       "      <th>date</th>\n",
       "      <th>duration</th>\n",
       "      <th>item</th>\n",
       "      <th>month</th>\n",
       "      <th>network</th>\n",
       "      <th>network_type</th>\n",
       "    </tr>\n",
       "  </thead>\n",
       "  <tbody>\n",
       "    <tr>\n",
       "      <th>0</th>\n",
       "      <td>0</td>\n",
       "      <td>15/10/14 06:58</td>\n",
       "      <td>34.429</td>\n",
       "      <td>data</td>\n",
       "      <td>2014-11</td>\n",
       "      <td>data</td>\n",
       "      <td>data</td>\n",
       "    </tr>\n",
       "    <tr>\n",
       "      <th>1</th>\n",
       "      <td>1</td>\n",
       "      <td>15/10/14 06:58</td>\n",
       "      <td>13.000</td>\n",
       "      <td>call</td>\n",
       "      <td>2014-11</td>\n",
       "      <td>Vodafone</td>\n",
       "      <td>mobile</td>\n",
       "    </tr>\n",
       "    <tr>\n",
       "      <th>2</th>\n",
       "      <td>2</td>\n",
       "      <td>15/10/14 14:46</td>\n",
       "      <td>23.000</td>\n",
       "      <td>call</td>\n",
       "      <td>2014-11</td>\n",
       "      <td>Meteor</td>\n",
       "      <td>mobile</td>\n",
       "    </tr>\n",
       "    <tr>\n",
       "      <th>3</th>\n",
       "      <td>3</td>\n",
       "      <td>15/10/14 14:48</td>\n",
       "      <td>4.000</td>\n",
       "      <td>call</td>\n",
       "      <td>2014-11</td>\n",
       "      <td>Tesco</td>\n",
       "      <td>mobile</td>\n",
       "    </tr>\n",
       "    <tr>\n",
       "      <th>4</th>\n",
       "      <td>4</td>\n",
       "      <td>15/10/14 17:27</td>\n",
       "      <td>4.000</td>\n",
       "      <td>call</td>\n",
       "      <td>2014-11</td>\n",
       "      <td>Tesco</td>\n",
       "      <td>mobile</td>\n",
       "    </tr>\n",
       "  </tbody>\n",
       "</table>\n",
       "</div>"
      ],
      "text/plain": [
       "   index            date  duration  item    month   network network_type\n",
       "0      0  15/10/14 06:58    34.429  data  2014-11      data         data\n",
       "1      1  15/10/14 06:58    13.000  call  2014-11  Vodafone       mobile\n",
       "2      2  15/10/14 14:46    23.000  call  2014-11    Meteor       mobile\n",
       "3      3  15/10/14 14:48     4.000  call  2014-11     Tesco       mobile\n",
       "4      4  15/10/14 17:27     4.000  call  2014-11     Tesco       mobile"
      ]
     },
     "execution_count": 26,
     "metadata": {},
     "output_type": "execute_result"
    }
   ],
   "source": [
    "dataset_for_practicing_pandas.head()"
   ]
  },
  {
   "cell_type": "markdown",
   "metadata": {},
   "source": [
    "## Summarising dataframe"
   ]
  },
  {
   "cell_type": "code",
   "execution_count": 38,
   "metadata": {},
   "outputs": [
    {
     "name": "stdout",
     "output_type": "stream",
     "text": [
      "\n",
      " How many rows the dataset\n",
      "830\n",
      "\n",
      " What was the longest phone call / data entry?\n",
      "10528.0\n",
      "\n",
      " How many seconds of phone calls are recorded in total?\n",
      "97777.35\n",
      "\n",
      " How many entries are there for each month?\n",
      "2014-11    230\n",
      "2015-01    205\n",
      "2014-12    157\n",
      "2015-02    137\n",
      "2015-03    101\n",
      "Name: month, dtype: int64\n",
      "\n",
      " Number of non-null unique network entries\n",
      "9\n"
     ]
    }
   ],
   "source": [
    "print(\"\\n How many rows the dataset\")\n",
    "print(len(dataset_for_practicing_pandas))\n",
    "\n",
    "print(\"\\n What was the longest phone call / data entry?\")\n",
    "print(dataset_for_practicing_pandas['duration'].max())\n",
    "\n",
    "print(\"\\n How many seconds of phone calls are recorded in total?\")\n",
    "print(dataset_for_practicing_pandas['duration'].sum())\n",
    "\n",
    "print(\"\\n How many entries are there for each month?\")\n",
    "print(dataset_for_practicing_pandas['month'].value_counts())\n",
    "\n",
    "print(\"\\n Number of non-null unique network entries\")\n",
    "print(dataset_for_practicing_pandas['network'].nunique())"
   ]
  },
  {
   "cell_type": "markdown",
   "metadata": {},
   "source": [
    "## Group-by\n"
   ]
  },
  {
   "cell_type": "code",
   "execution_count": 54,
   "metadata": {},
   "outputs": [
    {
     "data": {
      "text/plain": [
       "month    network_type\n",
       "2014-11  data             29\n",
       "         landline          5\n",
       "         mobile          189\n",
       "         special           1\n",
       "         voicemail         6\n",
       "2014-12  data             30\n",
       "         landline          7\n",
       "         mobile          108\n",
       "         voicemail         8\n",
       "         world             4\n",
       "2015-01  data             31\n",
       "         landline         11\n",
       "         mobile          160\n",
       "         voicemail         3\n",
       "2015-02  data             31\n",
       "         landline          8\n",
       "         mobile           90\n",
       "         special           2\n",
       "         voicemail         6\n",
       "2015-03  data             29\n",
       "         landline         11\n",
       "         mobile           54\n",
       "         voicemail         4\n",
       "         world             3\n",
       "Name: date, dtype: int64"
      ]
     },
     "execution_count": 54,
     "metadata": {},
     "output_type": "execute_result"
    }
   ],
   "source": [
    "\n",
    "# Get the first entry for each month\n",
    "dataset_for_practicing_pandas.groupby('month').first()\n",
    "\n",
    "# Get the sum of the durations per month\n",
    "dataset_for_practicing_pandas.groupby('month')['duration'].sum()\n",
    "\n",
    "# Get the number of dates / entries in each month\n",
    "dataset_for_practicing_pandas.groupby('month')['date'].count()\n",
    "# What is the sum of durations, for calls only, to each network\n",
    "dataset_for_practicing_pandas[dataset_for_practicing_pandas['item']== 'call'].groupby('network')['duration'].sum()\n",
    "\n",
    "# How many calls, sms, and data entries are in each month?\n",
    "dataset_for_practicing_pandas.groupby(['month', 'item'])['date'].count()\n",
    "\n",
    "# How many calls, texts, and data are sent per month, split by network_type?\n",
    "dataset_for_practicing_pandas.groupby(['month', 'network_type'])['date'].count()\n",
    "\n",
    "\n",
    "# Group the data frame by month and item and extract a number of stats from each group\n",
    "dataset_for_practicing_pandas.groupby(['month', 'network_type'])\n",
    "\n"
   ]
  },
  {
   "cell_type": "markdown",
   "metadata": {},
   "source": [
    "### Applying a single function to columns in groups\n"
   ]
  },
  {
   "cell_type": "code",
   "execution_count": 61,
   "metadata": {},
   "outputs": [
    {
     "name": "stdout",
     "output_type": "stream",
     "text": [
      "\n",
      " Group the data frame by month and item and extract a number of stats from each group\n"
     ]
    },
    {
     "data": {
      "text/html": [
       "<div>\n",
       "<style scoped>\n",
       "    .dataframe tbody tr th:only-of-type {\n",
       "        vertical-align: middle;\n",
       "    }\n",
       "\n",
       "    .dataframe tbody tr th {\n",
       "        vertical-align: top;\n",
       "    }\n",
       "\n",
       "    .dataframe thead th {\n",
       "        text-align: right;\n",
       "    }\n",
       "</style>\n",
       "<table border=\"1\" class=\"dataframe\">\n",
       "  <thead>\n",
       "    <tr style=\"text-align: right;\">\n",
       "      <th></th>\n",
       "      <th></th>\n",
       "      <th>network</th>\n",
       "      <th>network_type</th>\n",
       "      <th>duration</th>\n",
       "    </tr>\n",
       "    <tr>\n",
       "      <th>month</th>\n",
       "      <th>item</th>\n",
       "      <th></th>\n",
       "      <th></th>\n",
       "      <th></th>\n",
       "    </tr>\n",
       "  </thead>\n",
       "  <tbody>\n",
       "    <tr>\n",
       "      <th rowspan=\"3\" valign=\"top\">2014-11</th>\n",
       "      <th>call</th>\n",
       "      <td>107</td>\n",
       "      <td>mobile</td>\n",
       "      <td>25547.000</td>\n",
       "    </tr>\n",
       "    <tr>\n",
       "      <th>data</th>\n",
       "      <td>29</td>\n",
       "      <td>data</td>\n",
       "      <td>998.441</td>\n",
       "    </tr>\n",
       "    <tr>\n",
       "      <th>sms</th>\n",
       "      <td>94</td>\n",
       "      <td>mobile</td>\n",
       "      <td>94.000</td>\n",
       "    </tr>\n",
       "    <tr>\n",
       "      <th rowspan=\"3\" valign=\"top\">2014-12</th>\n",
       "      <th>call</th>\n",
       "      <td>79</td>\n",
       "      <td>voicemail</td>\n",
       "      <td>13561.000</td>\n",
       "    </tr>\n",
       "    <tr>\n",
       "      <th>data</th>\n",
       "      <td>30</td>\n",
       "      <td>data</td>\n",
       "      <td>1032.870</td>\n",
       "    </tr>\n",
       "    <tr>\n",
       "      <th>sms</th>\n",
       "      <td>48</td>\n",
       "      <td>mobile</td>\n",
       "      <td>48.000</td>\n",
       "    </tr>\n",
       "    <tr>\n",
       "      <th rowspan=\"3\" valign=\"top\">2015-01</th>\n",
       "      <th>call</th>\n",
       "      <td>88</td>\n",
       "      <td>mobile</td>\n",
       "      <td>17070.000</td>\n",
       "    </tr>\n",
       "    <tr>\n",
       "      <th>data</th>\n",
       "      <td>31</td>\n",
       "      <td>data</td>\n",
       "      <td>1067.299</td>\n",
       "    </tr>\n",
       "    <tr>\n",
       "      <th>sms</th>\n",
       "      <td>86</td>\n",
       "      <td>mobile</td>\n",
       "      <td>86.000</td>\n",
       "    </tr>\n",
       "    <tr>\n",
       "      <th rowspan=\"3\" valign=\"top\">2015-02</th>\n",
       "      <th>call</th>\n",
       "      <td>67</td>\n",
       "      <td>mobile</td>\n",
       "      <td>14416.000</td>\n",
       "    </tr>\n",
       "    <tr>\n",
       "      <th>data</th>\n",
       "      <td>31</td>\n",
       "      <td>data</td>\n",
       "      <td>1067.299</td>\n",
       "    </tr>\n",
       "    <tr>\n",
       "      <th>sms</th>\n",
       "      <td>39</td>\n",
       "      <td>special</td>\n",
       "      <td>39.000</td>\n",
       "    </tr>\n",
       "    <tr>\n",
       "      <th rowspan=\"3\" valign=\"top\">2015-03</th>\n",
       "      <th>call</th>\n",
       "      <td>47</td>\n",
       "      <td>landline</td>\n",
       "      <td>21727.000</td>\n",
       "    </tr>\n",
       "    <tr>\n",
       "      <th>data</th>\n",
       "      <td>29</td>\n",
       "      <td>data</td>\n",
       "      <td>998.441</td>\n",
       "    </tr>\n",
       "    <tr>\n",
       "      <th>sms</th>\n",
       "      <td>25</td>\n",
       "      <td>mobile</td>\n",
       "      <td>25.000</td>\n",
       "    </tr>\n",
       "  </tbody>\n",
       "</table>\n",
       "</div>"
      ],
      "text/plain": [
       "              network network_type   duration\n",
       "month   item                                 \n",
       "2014-11 call      107       mobile  25547.000\n",
       "        data       29         data    998.441\n",
       "        sms        94       mobile     94.000\n",
       "2014-12 call       79    voicemail  13561.000\n",
       "        data       30         data   1032.870\n",
       "        sms        48       mobile     48.000\n",
       "2015-01 call       88       mobile  17070.000\n",
       "        data       31         data   1067.299\n",
       "        sms        86       mobile     86.000\n",
       "2015-02 call       67       mobile  14416.000\n",
       "        data       31         data   1067.299\n",
       "        sms        39      special     39.000\n",
       "2015-03 call       47     landline  21727.000\n",
       "        data       29         data    998.441\n",
       "        sms        25       mobile     25.000"
      ]
     },
     "execution_count": 61,
     "metadata": {},
     "output_type": "execute_result"
    }
   ],
   "source": [
    "print(\"\\n Group the data frame by month and item and extract a number of stats from each group\")\n",
    "\n",
    "dataset_for_practicing_pandas.groupby(['month', 'item']).agg({'duration' :  sum,\n",
    "                                                                    'network' : \"count\",\n",
    "                                                                    'network_type' : \"first\"\n",
    "                                                                   })"
   ]
  },
  {
   "cell_type": "code",
   "execution_count": 13,
   "metadata": {
    "collapsed": true
   },
   "outputs": [],
   "source": [
    "# Joins"
   ]
  },
  {
   "cell_type": "code",
   "execution_count": 14,
   "metadata": {
    "collapsed": true
   },
   "outputs": [],
   "source": [
    "# Reshape( Widening and Narrowing)"
   ]
  }
 ],
 "metadata": {
  "kernelspec": {
   "display_name": "Python 3",
   "language": "python",
   "name": "python3"
  },
  "language_info": {
   "codemirror_mode": {
    "name": "ipython",
    "version": 3
   },
   "file_extension": ".py",
   "mimetype": "text/x-python",
   "name": "python",
   "nbconvert_exporter": "python",
   "pygments_lexer": "ipython3",
   "version": "3.5.4"
  }
 },
 "nbformat": 4,
 "nbformat_minor": 2
}
