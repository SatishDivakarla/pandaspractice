{
 "cells": [
  {
   "cell_type": "code",
   "execution_count": 1,
   "metadata": {
    "collapsed": true
   },
   "outputs": [],
   "source": [
    "import pandas as pd\n",
    "import numpy as np\n",
    "\n",
    "\n",
    "\n"
   ]
  },
  {
   "cell_type": "markdown",
   "metadata": {},
   "source": [
    "## Data Preparation"
   ]
  },
  {
   "cell_type": "code",
   "execution_count": 2,
   "metadata": {
    "collapsed": true
   },
   "outputs": [],
   "source": [
    "#Preparing Data\n",
    "\n",
    "dates = pd.date_range('20130101', periods=6)\n",
    "df = pd.DataFrame(np.random.randn(6,4), index=dates, columns=list('ABCD'))\n",
    "\n",
    "dataset_for_practicing_pandas =  pd.read_csv(\"test.csv\")\n"
   ]
  },
  {
   "cell_type": "markdown",
   "metadata": {},
   "source": [
    "## Selecting Columns\n"
   ]
  },
  {
   "cell_type": "code",
   "execution_count": 3,
   "metadata": {},
   "outputs": [
    {
     "name": "stdout",
     "output_type": "stream",
     "text": [
      "\n",
      " Select column as a list\n",
      "2013-01-01   -0.628888\n",
      "2013-01-02   -1.027809\n",
      "2013-01-03   -0.232528\n",
      "2013-01-04   -1.646279\n",
      "2013-01-05    1.072148\n",
      "2013-01-06   -1.897596\n",
      "Freq: D, Name: A, dtype: float64\n",
      "\n",
      " Select column as a dataframe\n",
      "                   A\n",
      "2013-01-01 -0.628888\n",
      "2013-01-02 -1.027809\n",
      "2013-01-03 -0.232528\n",
      "2013-01-04 -1.646279\n",
      "2013-01-05  1.072148\n",
      "2013-01-06 -1.897596\n",
      "\n",
      " Select multiple columns 1\n",
      "                   A         B\n",
      "2013-01-01 -0.628888 -0.383440\n",
      "2013-01-02 -1.027809  1.279783\n",
      "2013-01-03 -0.232528 -0.419770\n",
      "2013-01-04 -1.646279  2.518328\n",
      "2013-01-05  1.072148  1.295790\n",
      "2013-01-06 -1.897596 -0.128020\n",
      "\n",
      " Select multiple columns 2\n",
      "                   A         B         C\n",
      "2013-01-01 -0.628888 -0.383440 -1.392663\n",
      "2013-01-02 -1.027809  1.279783 -0.771028\n",
      "2013-01-03 -0.232528 -0.419770  1.104767\n",
      "2013-01-04 -1.646279  2.518328  1.403536\n",
      "2013-01-05  1.072148  1.295790  0.378959\n",
      "2013-01-06 -1.897596 -0.128020  1.224887\n",
      "\n",
      " Select all columns except B\n",
      "                   A         C         D\n",
      "2013-01-01 -0.628888 -1.392663 -0.883223\n",
      "2013-01-02 -1.027809 -0.771028 -0.242281\n",
      "2013-01-03 -0.232528  1.104767 -0.503261\n",
      "2013-01-04 -1.646279  1.403536  0.463937\n",
      "2013-01-05  1.072148  0.378959  0.694711\n",
      "2013-01-06 -1.897596  1.224887  0.254035\n"
     ]
    }
   ],
   "source": [
    "print(\"\\n Select column as a list\")\n",
    "print(df['A'])\n",
    "\n",
    "print(\"\\n Select column as a dataframe\")\n",
    "print(df[['A']])\n",
    "\n",
    "print(\"\\n Select multiple columns 1\")\n",
    "print(df[['A','B']])\n",
    "\n",
    "print(\"\\n Select multiple columns 2\")\n",
    "columns= ['A', 'B','C']\n",
    "print(df[columns])\n",
    "\n",
    "print(\"\\n Select all columns except B\")\n",
    "print(df.drop('B', 1))\n",
    "\n"
   ]
  },
  {
   "cell_type": "markdown",
   "metadata": {},
   "source": [
    "## Filter rows\n"
   ]
  },
  {
   "cell_type": "code",
   "execution_count": 4,
   "metadata": {},
   "outputs": [
    {
     "name": "stdout",
     "output_type": "stream",
     "text": [
      "\n",
      " Filter rows having A value less than 0\n",
      "                   A         B         C         D\n",
      "2013-01-01 -0.628888 -0.383440 -1.392663 -0.883223\n",
      "2013-01-02 -1.027809  1.279783 -0.771028 -0.242281\n",
      "2013-01-03 -0.232528 -0.419770  1.104767 -0.503261\n",
      "2013-01-04 -1.646279  2.518328  1.403536  0.463937\n",
      "2013-01-06 -1.897596 -0.128020  1.224887  0.254035\n",
      "\n",
      " Filter rows having A value less than 0 and greater than -1\n",
      "                   A        B         C         D\n",
      "2013-01-01 -0.628888 -0.38344 -1.392663 -0.883223\n",
      "2013-01-03 -0.232528 -0.41977  1.104767 -0.503261\n"
     ]
    }
   ],
   "source": [
    "print(\"\\n Filter rows having A value less than 0\")\n",
    "print(df[df['A']<0])\n",
    "\n",
    "print(\"\\n Filter rows having A value less than 0 and greater than -1\")\n",
    "print(df[(df['A']<0) & (df['A']>-1)])"
   ]
  },
  {
   "cell_type": "markdown",
   "metadata": {},
   "source": [
    "## Select Rows\n",
    "\n",
    "* Use iloc for selecting rows by row numbers\n",
    "* Use loc for selecting data by label or by a conditional statment (.loc)\n"
   ]
  },
  {
   "cell_type": "markdown",
   "metadata": {},
   "source": [
    "### Selecting rows by row numbers"
   ]
  },
  {
   "cell_type": "code",
   "execution_count": 5,
   "metadata": {},
   "outputs": [
    {
     "data": {
      "text/html": [
       "<div>\n",
       "<style>\n",
       "    .dataframe thead tr:only-child th {\n",
       "        text-align: right;\n",
       "    }\n",
       "\n",
       "    .dataframe thead th {\n",
       "        text-align: left;\n",
       "    }\n",
       "\n",
       "    .dataframe tbody tr th {\n",
       "        vertical-align: top;\n",
       "    }\n",
       "</style>\n",
       "<table border=\"1\" class=\"dataframe\">\n",
       "  <thead>\n",
       "    <tr style=\"text-align: right;\">\n",
       "      <th></th>\n",
       "      <th>A</th>\n",
       "      <th>B</th>\n",
       "      <th>C</th>\n",
       "      <th>D</th>\n",
       "    </tr>\n",
       "  </thead>\n",
       "  <tbody>\n",
       "    <tr>\n",
       "      <th>2013-01-01</th>\n",
       "      <td>-0.628888</td>\n",
       "      <td>-0.383440</td>\n",
       "      <td>-1.392663</td>\n",
       "      <td>-0.883223</td>\n",
       "    </tr>\n",
       "    <tr>\n",
       "      <th>2013-01-02</th>\n",
       "      <td>-1.027809</td>\n",
       "      <td>1.279783</td>\n",
       "      <td>-0.771028</td>\n",
       "      <td>-0.242281</td>\n",
       "    </tr>\n",
       "    <tr>\n",
       "      <th>2013-01-03</th>\n",
       "      <td>-0.232528</td>\n",
       "      <td>-0.419770</td>\n",
       "      <td>1.104767</td>\n",
       "      <td>-0.503261</td>\n",
       "    </tr>\n",
       "    <tr>\n",
       "      <th>2013-01-04</th>\n",
       "      <td>-1.646279</td>\n",
       "      <td>2.518328</td>\n",
       "      <td>1.403536</td>\n",
       "      <td>0.463937</td>\n",
       "    </tr>\n",
       "    <tr>\n",
       "      <th>2013-01-05</th>\n",
       "      <td>1.072148</td>\n",
       "      <td>1.295790</td>\n",
       "      <td>0.378959</td>\n",
       "      <td>0.694711</td>\n",
       "    </tr>\n",
       "    <tr>\n",
       "      <th>2013-01-06</th>\n",
       "      <td>-1.897596</td>\n",
       "      <td>-0.128020</td>\n",
       "      <td>1.224887</td>\n",
       "      <td>0.254035</td>\n",
       "    </tr>\n",
       "  </tbody>\n",
       "</table>\n",
       "</div>"
      ],
      "text/plain": [
       "                   A         B         C         D\n",
       "2013-01-01 -0.628888 -0.383440 -1.392663 -0.883223\n",
       "2013-01-02 -1.027809  1.279783 -0.771028 -0.242281\n",
       "2013-01-03 -0.232528 -0.419770  1.104767 -0.503261\n",
       "2013-01-04 -1.646279  2.518328  1.403536  0.463937\n",
       "2013-01-05  1.072148  1.295790  0.378959  0.694711\n",
       "2013-01-06 -1.897596 -0.128020  1.224887  0.254035"
      ]
     },
     "execution_count": 5,
     "metadata": {},
     "output_type": "execute_result"
    }
   ],
   "source": [
    "df"
   ]
  },
  {
   "cell_type": "code",
   "execution_count": 6,
   "metadata": {},
   "outputs": [
    {
     "name": "stdout",
     "output_type": "stream",
     "text": [
      "\n",
      " 3rd row as a series\n",
      "A   -0.232528\n",
      "B   -0.419770\n",
      "C    1.104767\n",
      "D   -0.503261\n",
      "Name: 2013-01-03 00:00:00, dtype: float64\n",
      "\n",
      " Convert it to list if needed as follows\n",
      "<class 'list'>\n",
      "\n",
      " 3rd column\n",
      "2013-01-01   -1.392663\n",
      "2013-01-02   -0.771028\n",
      "2013-01-03    1.104767\n",
      "2013-01-04    1.403536\n",
      "2013-01-05    0.378959\n",
      "2013-01-06    1.224887\n",
      "Freq: D, Name: C, dtype: float64\n",
      "\n",
      " 3rd row and 3rd column\n",
      "1.10476697919\n",
      "\n",
      " Last Row\n",
      "A   -1.897596\n",
      "B   -0.128020\n",
      "C    1.224887\n",
      "D    0.254035\n",
      "Name: 2013-01-06 00:00:00, dtype: float64\n",
      "\n",
      " Last column\n",
      "2013-01-01   -0.883223\n",
      "2013-01-02   -0.242281\n",
      "2013-01-03   -0.503261\n",
      "2013-01-04    0.463937\n",
      "2013-01-05    0.694711\n",
      "2013-01-06    0.254035\n",
      "Freq: D, Name: D, dtype: float64\n",
      "\n",
      " First and Third Row, Second and Fourth column\n",
      "                  B         D\n",
      "2013-01-01 -0.38344 -0.883223\n",
      "2013-01-03 -0.41977 -0.503261\n"
     ]
    }
   ],
   "source": [
    "print(\"\\n 3rd row as a series\")\n",
    "print(df.iloc[2])\n",
    "\n",
    "print(\"\\n Convert it to list if needed as follows\")\n",
    "print(type(df.iloc[2].tolist()))\n",
    "\n",
    "print(\"\\n 3rd column\")\n",
    "print(df.iloc[:,2])\n",
    "\n",
    "print(\"\\n 3rd row and 3rd column\")\n",
    "print(df.iloc[2,2])\n",
    "\n",
    "print(\"\\n Last Row\")\n",
    "print(df.iloc[-1])\n",
    "\n",
    "print(\"\\n Last column\")\n",
    "print(df.iloc[:,-1])\n",
    "\n",
    "print(\"\\n First and Third Row, Second and Fourth column\")\n",
    "print(df.iloc[[0,2],[1,3]])"
   ]
  },
  {
   "cell_type": "markdown",
   "metadata": {},
   "source": [
    "### Selecting rows by label name or by conditions\n"
   ]
  },
  {
   "cell_type": "code",
   "execution_count": 7,
   "metadata": {},
   "outputs": [
    {
     "name": "stdout",
     "output_type": "stream",
     "text": [
      "\n",
      " Select rows by label name 2013-01-01 \n",
      "A   -0.628888\n",
      "B   -0.383440\n",
      "C   -1.392663\n",
      "D   -0.883223\n",
      "Name: 2013-01-01 00:00:00, dtype: float64\n",
      "\n",
      " Select rows by condition\n",
      "                   A         B         C         D\n",
      "2013-01-01 -0.628888 -0.383440 -1.392663 -0.883223\n",
      "2013-01-02 -1.027809  1.279783 -0.771028 -0.242281\n",
      "2013-01-03 -0.232528 -0.419770  1.104767 -0.503261\n",
      "2013-01-04 -1.646279  2.518328  1.403536  0.463937\n",
      "2013-01-06 -1.897596 -0.128020  1.224887  0.254035\n",
      "\n",
      " Select A and C column by condition\n",
      "                   A         C\n",
      "2013-01-01 -0.628888 -1.392663\n",
      "2013-01-02 -1.027809 -0.771028\n",
      "2013-01-03 -0.232528  1.104767\n",
      "2013-01-04 -1.646279  1.403536\n",
      "2013-01-06 -1.897596  1.224887\n"
     ]
    }
   ],
   "source": [
    "print(\"\\n Select rows by label name 2013-01-01 \")\n",
    "print(df.loc['2013-01-01'])\n",
    "\n",
    "print(\"\\n Select rows by condition\")\n",
    "print(df.loc[df['A']<0])\n",
    "\n",
    "print(\"\\n Select A and C column by condition\")\n",
    "print(df.loc[df['A']<0, ['A', 'C']])\n",
    "\n"
   ]
  },
  {
   "cell_type": "markdown",
   "metadata": {},
   "source": [
    "## Handling Missing Data"
   ]
  },
  {
   "cell_type": "code",
   "execution_count": 11,
   "metadata": {},
   "outputs": [
    {
     "name": "stdout",
     "output_type": "stream",
     "text": [
      "\n",
      " Count number of NAs in dataframe\n",
      "\n",
      " Count number of NAs in column A\n",
      "\n",
      " Drop any rows which have NAs\n",
      "\n",
      " Fill all NAs with a value\n",
      "\n",
      " Fill all NAs with a mean of column\n"
     ]
    },
    {
     "data": {
      "text/html": [
       "<div>\n",
       "<style>\n",
       "    .dataframe thead tr:only-child th {\n",
       "        text-align: right;\n",
       "    }\n",
       "\n",
       "    .dataframe thead th {\n",
       "        text-align: left;\n",
       "    }\n",
       "\n",
       "    .dataframe tbody tr th {\n",
       "        vertical-align: top;\n",
       "    }\n",
       "</style>\n",
       "<table border=\"1\" class=\"dataframe\">\n",
       "  <thead>\n",
       "    <tr style=\"text-align: right;\">\n",
       "      <th></th>\n",
       "      <th>A</th>\n",
       "      <th>B</th>\n",
       "      <th>C</th>\n",
       "      <th>D</th>\n",
       "    </tr>\n",
       "  </thead>\n",
       "  <tbody>\n",
       "    <tr>\n",
       "      <th>2013-01-01</th>\n",
       "      <td>-0.628888</td>\n",
       "      <td>-0.383440</td>\n",
       "      <td>-1.392663</td>\n",
       "      <td>-0.883223</td>\n",
       "    </tr>\n",
       "    <tr>\n",
       "      <th>2013-01-02</th>\n",
       "      <td>-1.027809</td>\n",
       "      <td>1.279783</td>\n",
       "      <td>-0.771028</td>\n",
       "      <td>-0.242281</td>\n",
       "    </tr>\n",
       "    <tr>\n",
       "      <th>2013-01-03</th>\n",
       "      <td>-0.232528</td>\n",
       "      <td>-0.419770</td>\n",
       "      <td>1.104767</td>\n",
       "      <td>-0.503261</td>\n",
       "    </tr>\n",
       "    <tr>\n",
       "      <th>2013-01-04</th>\n",
       "      <td>-1.646279</td>\n",
       "      <td>2.518328</td>\n",
       "      <td>1.403536</td>\n",
       "      <td>0.463937</td>\n",
       "    </tr>\n",
       "    <tr>\n",
       "      <th>2013-01-05</th>\n",
       "      <td>1.072148</td>\n",
       "      <td>1.295790</td>\n",
       "      <td>0.378959</td>\n",
       "      <td>0.694711</td>\n",
       "    </tr>\n",
       "    <tr>\n",
       "      <th>2013-01-06</th>\n",
       "      <td>-1.897596</td>\n",
       "      <td>-0.128020</td>\n",
       "      <td>1.224887</td>\n",
       "      <td>0.254035</td>\n",
       "    </tr>\n",
       "  </tbody>\n",
       "</table>\n",
       "</div>"
      ],
      "text/plain": [
       "                   A         B         C         D\n",
       "2013-01-01 -0.628888 -0.383440 -1.392663 -0.883223\n",
       "2013-01-02 -1.027809  1.279783 -0.771028 -0.242281\n",
       "2013-01-03 -0.232528 -0.419770  1.104767 -0.503261\n",
       "2013-01-04 -1.646279  2.518328  1.403536  0.463937\n",
       "2013-01-05  1.072148  1.295790  0.378959  0.694711\n",
       "2013-01-06 -1.897596 -0.128020  1.224887  0.254035"
      ]
     },
     "execution_count": 11,
     "metadata": {},
     "output_type": "execute_result"
    }
   ],
   "source": [
    "print(\"\\n Count number of NAs in dataframe\")\n",
    "df.isnull().sum()\n",
    "\n",
    "print(\"\\n Count number of NAs in column A\")\n",
    "df['A'].isnull().sum()\n",
    "\n",
    "print(\"\\n Drop any rows which have NAs\")\n",
    "df.dropna(how='any')\n",
    "\n",
    "print(\"\\n Fill all NAs with a value\")\n",
    "df.fillna(value=5)\n",
    "\n",
    "print(\"\\n Fill all NAs with a mean of column\")\n",
    "df.fillna(df.mean())"
   ]
  },
  {
   "cell_type": "markdown",
   "metadata": {},
   "source": [
    "## Apply function "
   ]
  },
  {
   "cell_type": "code",
   "execution_count": 12,
   "metadata": {},
   "outputs": [
    {
     "name": "stdout",
     "output_type": "stream",
     "text": [
      "Apply function to column in dataframe\n",
      "                   A         B         C         D      newA\n",
      "2013-01-01 -0.628888 -0.383440 -1.392663 -0.883223  0.371112\n",
      "2013-01-02 -1.027809  1.279783 -0.771028 -0.242281 -0.027809\n",
      "2013-01-03 -0.232528 -0.419770  1.104767 -0.503261  0.767472\n",
      "2013-01-04 -1.646279  2.518328  1.403536  0.463937 -0.646279\n",
      "2013-01-05  1.072148  1.295790  0.378959  0.694711  2.072148\n",
      "2013-01-06 -1.897596 -0.128020  1.224887  0.254035 -0.897596\n",
      "The same thing can be done using lambda expressions\n",
      "                   A         B         C         D      newA\n",
      "2013-01-01 -0.628888 -0.383440 -1.392663 -0.883223  0.371112\n",
      "2013-01-02 -1.027809  1.279783 -0.771028 -0.242281 -0.027809\n",
      "2013-01-03 -0.232528 -0.419770  1.104767 -0.503261  0.767472\n",
      "2013-01-04 -1.646279  2.518328  1.403536  0.463937 -0.646279\n",
      "2013-01-05  1.072148  1.295790  0.378959  0.694711  2.072148\n",
      "2013-01-06 -1.897596 -0.128020  1.224887  0.254035 -0.897596\n",
      "Add one only when A value is less than 0\n",
      "                   A         B         C         D      newA\n",
      "2013-01-01 -0.628888 -0.383440 -1.392663 -0.883223  0.371112\n",
      "2013-01-02 -1.027809  1.279783 -0.771028 -0.242281 -0.027809\n",
      "2013-01-03 -0.232528 -0.419770  1.104767 -0.503261  0.767472\n",
      "2013-01-04 -1.646279  2.518328  1.403536  0.463937 -0.646279\n",
      "2013-01-05  1.072148  1.295790  0.378959  0.694711  1.072148\n",
      "2013-01-06 -1.897596 -0.128020  1.224887  0.254035 -0.897596\n",
      "                   A         B         C         D      newA\n",
      "2013-01-01 -0.628888 -0.383440 -1.392663 -0.883223 -1.395767\n",
      "2013-01-02 -1.027809  1.279783 -0.771028 -0.242281  1.531757\n",
      "2013-01-03 -0.232528 -0.419770  1.104767 -0.503261 -1.072069\n",
      "2013-01-04 -1.646279  2.518328  1.403536  0.463937  3.390377\n",
      "2013-01-05  1.072148  1.295790  0.378959  0.694711  3.663728\n",
      "2013-01-06 -1.897596 -0.128020  1.224887  0.254035 -2.153636\n",
      "                   A         B         C         D      newA maxColumn\n",
      "2013-01-01 -0.628888 -0.383440 -1.392663 -0.883223 -1.395767         B\n",
      "2013-01-02 -1.027809  1.279783 -0.771028 -0.242281  1.531757         B\n",
      "2013-01-03 -0.232528 -0.419770  1.104767 -0.503261 -1.072069         C\n",
      "2013-01-04 -1.646279  2.518328  1.403536  0.463937  3.390377         B\n",
      "2013-01-05  1.072148  1.295790  0.378959  0.694711  3.663728         B\n",
      "2013-01-06 -1.897596 -0.128020  1.224887  0.254035 -2.153636         C\n"
     ]
    }
   ],
   "source": [
    "print(\"Apply function to column in dataframe\")\n",
    "\n",
    "def addOneToValue(x):\n",
    "    return x+1\n",
    "\n",
    "def isAMax(x):\n",
    "    if max(x['A'], x['B'], x['C'], x['D']) == x['A']:\n",
    "        return 'A'\n",
    "    elif max(x['A'], x['B'], x['C'], x['D']) == x['B']:\n",
    "        return 'B'\n",
    "    elif max(x['A'], x['B'], x['C'], x['D']) == x['C']:\n",
    "        return 'C'\n",
    "    elif max(x['A'], x['B'], x['C'], x['D']) == x['D']:\n",
    "        return 'D'    \n",
    "\n",
    "df['newA'] = df['A'].apply(addOneToValue)\n",
    "print(df)\n",
    "\n",
    "print(\"The same thing can be done using lambda expressions\")\n",
    "df['newA'] = df['A'].apply(lambda x: x+1)\n",
    "print(df)\n",
    "\n",
    "print(\"Add one only when A value is less than 0\")\n",
    "df['newA'] = df['A'].apply(lambda x:x+1 if x<0 else x)\n",
    "print(df)\n",
    "\n",
    "df['newA'] = df['A'] + 2*df['B']\n",
    "print(df)\n",
    "\n",
    "df['maxColumn'] = df.apply(isAMax, axis=1)\n",
    "print(df)\n",
    "\n"
   ]
  },
  {
   "cell_type": "markdown",
   "metadata": {},
   "source": [
    "* apply works on a row or column basis of a DataFrame, \n",
    "* applymap works element-wise on a DataFrame\n",
    "* map works element-wise on a Series."
   ]
  },
  {
   "cell_type": "markdown",
   "metadata": {},
   "source": [
    "## Arrange"
   ]
  },
  {
   "cell_type": "code",
   "execution_count": 16,
   "metadata": {},
   "outputs": [
    {
     "name": "stdout",
     "output_type": "stream",
     "text": [
      "\n",
      " Sort dataframe by values of A \n",
      "                   A         B         C         D      newA maxColumn\n",
      "2013-01-06 -1.897596 -0.128020  1.224887  0.254035 -2.153636         C\n",
      "2013-01-04 -1.646279  2.518328  1.403536  0.463937  3.390377         B\n",
      "2013-01-02 -1.027809  1.279783 -0.771028 -0.242281  1.531757         B\n",
      "2013-01-01 -0.628888 -0.383440 -1.392663 -0.883223 -1.395767         B\n",
      "2013-01-03 -0.232528 -0.419770  1.104767 -0.503261 -1.072069         C\n",
      "2013-01-05  1.072148  1.295790  0.378959  0.694711  3.663728         B\n",
      "\n",
      " Sort dataframe by values of maxColumn and A\n",
      "                   A         B         C         D      newA maxColumn\n",
      "2013-01-04 -1.646279  2.518328  1.403536  0.463937  3.390377         B\n",
      "2013-01-02 -1.027809  1.279783 -0.771028 -0.242281  1.531757         B\n",
      "2013-01-01 -0.628888 -0.383440 -1.392663 -0.883223 -1.395767         B\n",
      "2013-01-05  1.072148  1.295790  0.378959  0.694711  3.663728         B\n",
      "2013-01-06 -1.897596 -0.128020  1.224887  0.254035 -2.153636         C\n",
      "2013-01-03 -0.232528 -0.419770  1.104767 -0.503261 -1.072069         C\n",
      "\n",
      " Sort dataframe by values of A in descending order\n",
      "                   A         B         C         D      newA maxColumn\n",
      "2013-01-03 -0.232528 -0.419770  1.104767 -0.503261 -1.072069         C\n",
      "2013-01-06 -1.897596 -0.128020  1.224887  0.254035 -2.153636         C\n",
      "2013-01-05  1.072148  1.295790  0.378959  0.694711  3.663728         B\n",
      "2013-01-01 -0.628888 -0.383440 -1.392663 -0.883223 -1.395767         B\n",
      "2013-01-02 -1.027809  1.279783 -0.771028 -0.242281  1.531757         B\n",
      "2013-01-04 -1.646279  2.518328  1.403536  0.463937  3.390377         B\n"
     ]
    }
   ],
   "source": [
    "print(\"\\n Sort dataframe by values of A \")\n",
    "print(df.sort_values(['A']))\n",
    "\n",
    "print(\"\\n Sort dataframe by values of maxColumn and A\")\n",
    "print(df.sort_values(['maxColumn', 'A']))\n",
    "\n",
    "print(\"\\n Sort dataframe by values of A in descending order\")\n",
    "print(df.sort_values(['maxColumn', 'A'], ascending=False))"
   ]
  },
  {
   "cell_type": "code",
   "execution_count": 17,
   "metadata": {},
   "outputs": [
    {
     "data": {
      "text/html": [
       "<div>\n",
       "<style>\n",
       "    .dataframe thead tr:only-child th {\n",
       "        text-align: right;\n",
       "    }\n",
       "\n",
       "    .dataframe thead th {\n",
       "        text-align: left;\n",
       "    }\n",
       "\n",
       "    .dataframe tbody tr th {\n",
       "        vertical-align: top;\n",
       "    }\n",
       "</style>\n",
       "<table border=\"1\" class=\"dataframe\">\n",
       "  <thead>\n",
       "    <tr style=\"text-align: right;\">\n",
       "      <th></th>\n",
       "      <th>index</th>\n",
       "      <th>date</th>\n",
       "      <th>duration</th>\n",
       "      <th>item</th>\n",
       "      <th>month</th>\n",
       "      <th>network</th>\n",
       "      <th>network_type</th>\n",
       "    </tr>\n",
       "  </thead>\n",
       "  <tbody>\n",
       "    <tr>\n",
       "      <th>0</th>\n",
       "      <td>0</td>\n",
       "      <td>15/10/14 06:58</td>\n",
       "      <td>34.429</td>\n",
       "      <td>data</td>\n",
       "      <td>2014-11</td>\n",
       "      <td>data</td>\n",
       "      <td>data</td>\n",
       "    </tr>\n",
       "    <tr>\n",
       "      <th>1</th>\n",
       "      <td>1</td>\n",
       "      <td>15/10/14 06:58</td>\n",
       "      <td>13.000</td>\n",
       "      <td>call</td>\n",
       "      <td>2014-11</td>\n",
       "      <td>Vodafone</td>\n",
       "      <td>mobile</td>\n",
       "    </tr>\n",
       "    <tr>\n",
       "      <th>2</th>\n",
       "      <td>2</td>\n",
       "      <td>15/10/14 14:46</td>\n",
       "      <td>23.000</td>\n",
       "      <td>call</td>\n",
       "      <td>2014-11</td>\n",
       "      <td>Meteor</td>\n",
       "      <td>mobile</td>\n",
       "    </tr>\n",
       "    <tr>\n",
       "      <th>3</th>\n",
       "      <td>3</td>\n",
       "      <td>15/10/14 14:48</td>\n",
       "      <td>4.000</td>\n",
       "      <td>call</td>\n",
       "      <td>2014-11</td>\n",
       "      <td>Tesco</td>\n",
       "      <td>mobile</td>\n",
       "    </tr>\n",
       "    <tr>\n",
       "      <th>4</th>\n",
       "      <td>4</td>\n",
       "      <td>15/10/14 17:27</td>\n",
       "      <td>4.000</td>\n",
       "      <td>call</td>\n",
       "      <td>2014-11</td>\n",
       "      <td>Tesco</td>\n",
       "      <td>mobile</td>\n",
       "    </tr>\n",
       "  </tbody>\n",
       "</table>\n",
       "</div>"
      ],
      "text/plain": [
       "   index            date  duration  item    month   network network_type\n",
       "0      0  15/10/14 06:58    34.429  data  2014-11      data         data\n",
       "1      1  15/10/14 06:58    13.000  call  2014-11  Vodafone       mobile\n",
       "2      2  15/10/14 14:46    23.000  call  2014-11    Meteor       mobile\n",
       "3      3  15/10/14 14:48     4.000  call  2014-11     Tesco       mobile\n",
       "4      4  15/10/14 17:27     4.000  call  2014-11     Tesco       mobile"
      ]
     },
     "execution_count": 17,
     "metadata": {},
     "output_type": "execute_result"
    }
   ],
   "source": [
    "dataset_for_practicing_pandas.head()"
   ]
  },
  {
   "cell_type": "markdown",
   "metadata": {},
   "source": [
    "## Summarising dataframe"
   ]
  },
  {
   "cell_type": "code",
   "execution_count": 18,
   "metadata": {},
   "outputs": [
    {
     "name": "stdout",
     "output_type": "stream",
     "text": [
      "\n",
      " How many rows the dataset\n",
      "830\n",
      "\n",
      " What was the longest phone call / data entry?\n",
      "10528.0\n",
      "\n",
      " How many seconds of phone calls are recorded in total?\n",
      "97777.34999999998\n",
      "\n",
      " How many entries are there for each month?\n",
      "2014-11    230\n",
      "2015-01    205\n",
      "2014-12    157\n",
      "2015-02    137\n",
      "2015-03    101\n",
      "Name: month, dtype: int64\n",
      "\n",
      " Number of non-null unique network entries\n",
      "9\n"
     ]
    }
   ],
   "source": [
    "print(\"\\n How many rows the dataset\")\n",
    "print(len(dataset_for_practicing_pandas))\n",
    "\n",
    "print(\"\\n What was the longest phone call / data entry?\")\n",
    "print(dataset_for_practicing_pandas['duration'].max())\n",
    "\n",
    "print(\"\\n How many seconds of phone calls are recorded in total?\")\n",
    "print(dataset_for_practicing_pandas['duration'].sum())\n",
    "\n",
    "print(\"\\n How many entries are there for each month?\")\n",
    "print(dataset_for_practicing_pandas['month'].value_counts())\n",
    "\n",
    "print(\"\\n Number of non-null unique network entries\")\n",
    "print(dataset_for_practicing_pandas['network'].nunique())"
   ]
  },
  {
   "cell_type": "markdown",
   "metadata": {},
   "source": [
    "## Group-by\n"
   ]
  },
  {
   "cell_type": "code",
   "execution_count": 19,
   "metadata": {},
   "outputs": [
    {
     "data": {
      "text/plain": [
       "<pandas.core.groupby.DataFrameGroupBy object at 0x10cbf6c18>"
      ]
     },
     "execution_count": 19,
     "metadata": {},
     "output_type": "execute_result"
    }
   ],
   "source": [
    "\n",
    "# Get the first entry for each month\n",
    "dataset_for_practicing_pandas.groupby('month').first()\n",
    "\n",
    "# Get the sum of the durations per month\n",
    "dataset_for_practicing_pandas.groupby('month')['duration'].sum()\n",
    "\n",
    "# Get the number of dates / entries in each month\n",
    "dataset_for_practicing_pandas.groupby('month')['date'].count()\n",
    "# What is the sum of durations, for calls only, to each network\n",
    "dataset_for_practicing_pandas[dataset_for_practicing_pandas['item']== 'call'].groupby('network')['duration'].sum()\n",
    "\n",
    "# How many calls, sms, and data entries are in each month?\n",
    "dataset_for_practicing_pandas.groupby(['month', 'item'])['date'].count()\n",
    "\n",
    "# How many calls, texts, and data are sent per month, split by network_type?\n",
    "dataset_for_practicing_pandas.groupby(['month', 'network_type'])['date'].count()\n",
    "\n",
    "\n",
    "# Group the data frame by month and item and extract a number of stats from each group\n",
    "dataset_for_practicing_pandas.groupby(['month', 'network_type'])\n",
    "\n"
   ]
  },
  {
   "cell_type": "markdown",
   "metadata": {},
   "source": [
    "### Applying a single function to columns in groups\n"
   ]
  },
  {
   "cell_type": "code",
   "execution_count": null,
   "metadata": {},
   "outputs": [],
   "source": [
    "print(\"\\n Group the data frame by month and item and extract a number of stats from each group\")\n",
    "\n",
    "dataset_for_practicing_pandas.groupby(['month', 'item']).agg({'duration' :  sum,\n",
    "                                                                    'network' : \"count\",\n",
    "                                                                    'network_type' : \"first\"\n",
    "                                                                   })"
   ]
  },
  {
   "cell_type": "code",
   "execution_count": null,
   "metadata": {
    "collapsed": true
   },
   "outputs": [],
   "source": [
    "# Joins"
   ]
  },
  {
   "cell_type": "code",
   "execution_count": null,
   "metadata": {
    "collapsed": true
   },
   "outputs": [],
   "source": [
    "# Reshape( Widening and Narrowing)"
   ]
  }
 ],
 "metadata": {
  "kernelspec": {
   "display_name": "Python 3",
   "language": "python",
   "name": "python3"
  },
  "language_info": {
   "codemirror_mode": {
    "name": "ipython",
    "version": 3
   },
   "file_extension": ".py",
   "mimetype": "text/x-python",
   "name": "python",
   "nbconvert_exporter": "python",
   "pygments_lexer": "ipython3",
   "version": "3.6.3"
  }
 },
 "nbformat": 4,
 "nbformat_minor": 2
}
